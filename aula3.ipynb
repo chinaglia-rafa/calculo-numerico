{
 "cells": [
  {
   "attachments": {},
   "cell_type": "markdown",
   "metadata": {},
   "source": [
    "# Aula 3 - Série de Taylor\n",
    "\n",
    "## Definição\n",
    "\n",
    "Seja *f* uma função e *a* um número do meu domínio. Seja *x* um número na vizinhança da *f*.\n",
    "\n",
    "$$f(a) + f'(x-a) + {f''(a)\\over{2!}}(x-a)^2 + {f'''(a)\\over{3!}}(x-2)^3 ... = \\sum_{k=0}^\\infty {f^{(k)}(x)\\over{k!}}h^k $$\n",
    "\n",
    "## Teorema de Taylor\n",
    "\n",
    "Podemos reescrever a série de Taylor como (dado *n* e *N*):\n",
    "$$f(x+h) = P_n(x) + R_n(x)$$ \n",
    "<sub>(Polinômio de Taylor e Resto do polinômio)</sub>\n",
    "\n",
    "Onde $$P_n(x) = f(x) + hf'(x) + ... + {h^n\\over{n!}} f^{(n)}(x)$$\n",
    "\n",
    "e $$R_n(x) = {h^{n+1}\\over{(n+1)!}}f^{(n+1)}(\\varepsilon(h))$$\n",
    "\n",
    "## Aplicação\n",
    "\n",
    "Dado $x^{(0)}$ quero encontrar $\\bar x$ tal que $f(\\bar x) = 0$\n",
    "\n",
    "$$f(\\bar x) = f(x^{(0)}) + f'(x^{(0)})(\\bar x - x^{(0)}) * {f''(x^{(0)})\\over 2} (\\bar x - x^{(0)})$$\n",
    "\n"
   ]
  },
  {
   "cell_type": "code",
   "execution_count": 2,
   "metadata": {},
   "outputs": [],
   "source": [
    "import numpy as np # funções matemáticas\n",
    "import matplotlib.pyplot as plt # plot dos gráficos (visualização)"
   ]
  },
  {
   "cell_type": "code",
   "execution_count": 14,
   "metadata": {},
   "outputs": [],
   "source": [
    "# Definição da função não-linear e sua derivada\n",
    "def f(x):\n",
    "    # return x**3 - x**2 + x - 1.5\n",
    "    return x - 2**(-x)"
   ]
  },
  {
   "attachments": {},
   "cell_type": "markdown",
   "metadata": {},
   "source": [
    "### Algoritmo de bissecção"
   ]
  },
  {
   "cell_type": "code",
   "execution_count": 3,
   "metadata": {},
   "outputs": [],
   "source": [
    "def bissec(f, a, b, tol = 1e-4, maxIt = 50):\n",
    "\n",
    "    # Verificar condição de existencia de raiz no intervalo\n",
    "    if f(a)*f(b) > 0:\n",
    "        print(\"O intervalo dado é inválido\")\n",
    "        return None, 0 # retorna nenhuma raiz\n",
    "    \n",
    "        # alternativamente, podemos lançar uma exceção\n",
    "        # raise ValueError(f\"O intervalo [{a}, {b}] é inválido para essa função\")\n",
    "\n",
    "    # Verifica se os extremos do intervalo são raízes\n",
    "    if np.abs(f(a)) < tol:\n",
    "        return a,0\n",
    "    if np.abs(f(b)) < tol:\n",
    "        return b,0\n",
    "    \n",
    "    for it in range(maxIt): # for(int it = 0; it < maxIt; it++)\n",
    "\n",
    "        x = (a+b)/2 # Realiza a iteração (calcula o ponto médio)\n",
    "\n",
    "        # Verifica se resultado é próximo suficiente da raiz\n",
    "        if np.abs(f(x)) < tol:\n",
    "            return x, it+1\n",
    "        \n",
    "        # Determina novo intervalo\n",
    "        if f(x)*f(a) < 0:\n",
    "            b = x # intervalo [a,x]\n",
    "        else:\n",
    "            a = x # intervalo [x,b]\n",
    "\n",
    "    # Caso não haja convergência no limite de iterações definido:\n",
    "    print('Numero max de iterações foi atingido')\n",
    "    return x, maxIt"
   ]
  },
  {
   "attachments": {},
   "cell_type": "markdown",
   "metadata": {},
   "source": [
    "### Técnica de Newton"
   ]
  },
  {
   "cell_type": "code",
   "execution_count": 4,
   "metadata": {},
   "outputs": [],
   "source": [
    "def newton(f,df, x, tol = 1e-4, maxIt=50):\n",
    "    for it in range(maxIt):\n",
    "        if np.abs(f(x)) < tol:\n",
    "            return x, it\n",
    "        if df(x) == 0:\n",
    "            print(\"Erro: df(x) = 0\")\n",
    "            return x, it\n",
    "            # Alternativamente:\n",
    "            # raise ValueError(f\"A derivada em x = {x} é 0\")\n",
    "        x = x - f(x)/df(x)\n",
    "    print('Numero max de iterações foi atingido')\n",
    "    return x, maxIt"
   ]
  },
  {
   "attachments": {},
   "cell_type": "markdown",
   "metadata": {},
   "source": [
    "### Técnica das Secantes"
   ]
  },
  {
   "cell_type": "code",
   "execution_count": 6,
   "metadata": {},
   "outputs": [],
   "source": [
    "def secantes(f,x0, x_old, tol = 1e-4, maxIt=50):\n",
    "    quoc_dif = lambda x, x_old: (x_old * f(x) - x * f(x_old)) / (f(x) - f(x_old))\n",
    "    for it in range(maxIt):\n",
    "        if np.abs(f(x0)) < tol:\n",
    "            return x0, it\n",
    "        x = quoc_dif(x0, x_old)\n",
    "        x0 = x_old\n",
    "        x_old = x\n",
    "    print('Numero max de iterações foi atingido')\n",
    "    return x0, maxIt"
   ]
  },
  {
   "cell_type": "code",
   "execution_count": 15,
   "metadata": {},
   "outputs": [
    {
     "name": "stdout",
     "output_type": "stream",
     "text": [
      "(0.6411857447541184, 5)\n"
     ]
    }
   ],
   "source": [
    "a = secantes(f, 0, 1, 1e-6)\n",
    "print(a)"
   ]
  }
 ],
 "metadata": {
  "kernelspec": {
   "display_name": "venv",
   "language": "python",
   "name": "python3"
  },
  "language_info": {
   "codemirror_mode": {
    "name": "ipython",
    "version": 3
   },
   "file_extension": ".py",
   "mimetype": "text/x-python",
   "name": "python",
   "nbconvert_exporter": "python",
   "pygments_lexer": "ipython3",
   "version": "3.10.6"
  },
  "orig_nbformat": 4,
  "vscode": {
   "interpreter": {
    "hash": "395b18137b877a82eb24659cc41bd1a4c37b5c461021c7eca5c6c9d573ebc77a"
   }
  }
 },
 "nbformat": 4,
 "nbformat_minor": 2
}

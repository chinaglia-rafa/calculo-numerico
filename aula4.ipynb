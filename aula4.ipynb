{
 "cells": [
  {
   "attachments": {},
   "cell_type": "markdown",
   "metadata": {},
   "source": [
    "## Aula 4 - Solução de sistemas lineares"
   ]
  },
  {
   "cell_type": "code",
   "execution_count": 32,
   "metadata": {},
   "outputs": [],
   "source": [
    "import numpy as np\n",
    "import scipy.linalg as la"
   ]
  },
  {
   "cell_type": "code",
   "execution_count": 33,
   "metadata": {},
   "outputs": [],
   "source": [
    "def solve_low(A, b):\n",
    "  # Calcula as dimensões da matriz (o atributo shape retorna as dimensões de uma matriz do numpy)\n",
    "  n, m = A.shape\n",
    "\n",
    "  if n != m:\n",
    "    raise ValueError(\"A matriz de coeficientes A deve ser quadrada\")\n",
    "\n",
    "  # Cria um vetor de zeros de dimensão n\n",
    "  x = np.zeros(n)\n",
    "  for i in range(n):\n",
    "    x[i] = (b[i] - A[i,:i] @ x[:i]) / A[i,i]\n",
    "    # O trecho acima é equivalente às linhas comentadas abaixo:\n",
    "    #   soma = 0\n",
    "    #   for j in range(i):\n",
    "    #     soma += A[i,j] * x[j]\n",
    "    #   x[i] = (b[i] - soma) / A[i, i] \n",
    "\n",
    "  return x"
   ]
  },
  {
   "cell_type": "code",
   "execution_count": 34,
   "metadata": {},
   "outputs": [],
   "source": [
    "def solve_upper(A, b):\n",
    "  # Calcula as dimensões da matriz (o atributo shape retorna as dimensões de uma matriz do numpy)\n",
    "  n, m = A.shape\n",
    "\n",
    "  if n != m:\n",
    "    raise ValueError(\"A matriz de coeficientes A deve ser quadrada\")\n",
    "\n",
    "  # Cria um vetor de zeros de dimensão n\n",
    "  x = np.zeros(n)\n",
    "  for k in range(n):\n",
    "    # Essa linha inverte o valor de k, ou seja: o loop vai de n-1 até 0\n",
    "    i = n - k - 1\n",
    "    x[i] = (b[i] - A[i,i+1:] @ x[i+1:]) / A[i,i]\n",
    "\n",
    "  return x"
   ]
  },
  {
   "cell_type": "code",
   "execution_count": 35,
   "metadata": {},
   "outputs": [],
   "source": [
    "def LU(A):\n",
    "  n, m = A.shape\n",
    "\n",
    "  if n != m:\n",
    "    raise ValueError(\"A matriz de coeficientes A deve ser quadrada\")\n",
    "\n",
    "  U = np.zeros((n, n))\n",
    "  # Cria uma matriz identidade de dimensão n\n",
    "  L = np.eye(n)\n",
    "  for i in range(n):\n",
    "    # Descobre linha de U\n",
    "    for j in range(i, n):\n",
    "      U[i,j] = A[i,j] - L[i,:i] @ U[:i, j]\n",
    "\n",
    "    # Descobre coluna de L\n",
    "    for j in range(i + 1, n):\n",
    "      L[j,i] = (A[j,i] - L[j,:i] @ U[:i, i]) / U[i,i]\n",
    "\n",
    "  return L, U"
   ]
  },
  {
   "cell_type": "code",
   "execution_count": 36,
   "metadata": {},
   "outputs": [],
   "source": [
    "A = np.array(\n",
    "  [\n",
    "    [5, 2, 1],\n",
    "    [1, 1, 3],\n",
    "    [3, 1, 4]\n",
    "  ]\n",
    ")"
   ]
  },
  {
   "cell_type": "code",
   "execution_count": 37,
   "metadata": {},
   "outputs": [
    {
     "name": "stdout",
     "output_type": "stream",
     "text": [
      "==== L ====\n",
      "[[ 1.          0.          0.        ]\n",
      " [ 0.2         1.          0.        ]\n",
      " [ 0.6        -0.33333333  1.        ]]\n",
      "\n",
      "==== U ====\n",
      "[[5.         2.         1.        ]\n",
      " [0.         0.6        2.8       ]\n",
      " [0.         0.         4.33333333]]\n",
      "\n",
      "[ 1.84615385 -3.76923077 -1.69230769]\n"
     ]
    }
   ],
   "source": [
    "L, U = LU(A)\n",
    "b = np.zeros((3, 1))\n",
    "b[0] = 0\n",
    "b[1] = -7\n",
    "b[2] = -5\n",
    "\n",
    "print(\"==== L ====\")\n",
    "print(L)\n",
    "print()\n",
    "print(\"==== U ====\")\n",
    "print(U)\n",
    "\n",
    "y = solve_low(L, b)\n",
    "x = solve_upper(U, y)\n",
    "\n",
    "print()\n",
    "print(x)"
   ]
  }
 ],
 "metadata": {
  "kernelspec": {
   "display_name": "venv",
   "language": "python",
   "name": "python3"
  },
  "language_info": {
   "codemirror_mode": {
    "name": "ipython",
    "version": 3
   },
   "file_extension": ".py",
   "mimetype": "text/x-python",
   "name": "python",
   "nbconvert_exporter": "python",
   "pygments_lexer": "ipython3",
   "version": "3.10.6"
  },
  "orig_nbformat": 4,
  "vscode": {
   "interpreter": {
    "hash": "395b18137b877a82eb24659cc41bd1a4c37b5c461021c7eca5c6c9d573ebc77a"
   }
  }
 },
 "nbformat": 4,
 "nbformat_minor": 2
}
